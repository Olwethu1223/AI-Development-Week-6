{
 "cells": [
  {
   "cell_type": "code",
   "execution_count": null,
   "id": "4cf485a2",
   "metadata": {},
   "outputs": [],
   "source": [
    "\n",
    "# 📊 Confusion Matrix – Hospital Readmission Prediction\n",
    "\n",
    "import numpy as np\n",
    "import matplotlib.pyplot as plt\n",
    "from sklearn.metrics import confusion_matrix, ConfusionMatrixDisplay, precision_score, recall_score\n",
    "\n",
    "# Simulated data\n",
    "# TP = 180, FN = 50, FP = 70, TN = 500\n",
    "y_true = [1]*180 + [1]*50 + [0]*70 + [0]*500  # True values\n",
    "y_pred = [1]*180 + [0]*50 + [1]*70 + [0]*500  # Predicted values\n",
    "\n",
    "# Generate confusion matrix\n",
    "cm = confusion_matrix(y_true, y_pred, labels=[1, 0])\n",
    "\n",
    "# Display matrix\n",
    "disp = ConfusionMatrixDisplay(confusion_matrix=cm, display_labels=[\"Readmit\", \"No Readmit\"])\n",
    "disp.plot(cmap=plt.cm.Blues)\n",
    "plt.title(\"Confusion Matrix – Hospital Readmission Prediction\")\n",
    "plt.tight_layout()\n",
    "plt.show()\n",
    "\n",
    "# Print precision and recall\n",
    "precision = precision_score(y_true, y_pred)\n",
    "recall = recall_score(y_true, y_pred)\n",
    "\n",
    "print(f\"Precision: {precision:.2f}\")\n",
    "print(f\"Recall: {recall:.2f}\")\n"
   ]
  }
 ],
 "metadata": {},
 "nbformat": 4,
 "nbformat_minor": 5
}
